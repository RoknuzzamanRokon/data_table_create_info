{
 "cells": [
  {
   "cell_type": "markdown",
   "id": "75e67e1f-1cde-44ed-bec8-355cb2208a06",
   "metadata": {},
   "source": [
    "Tests "
   ]
  },
  {
   "cell_type": "code",
   "execution_count": 2,
   "id": "1ebe16a2-a046-4c1b-91fb-32b3b853a006",
   "metadata": {},
   "outputs": [
    {
     "name": "stdout",
     "output_type": "stream",
     "text": [
      "3.12.0 (tags/v3.12.0:0fb18b0, Oct  2 2023, 13:03:39) [MSC v.1935 64 bit (AMD64)]\n"
     ]
    }
   ],
   "source": [
    "import sys\n",
    "\n",
    "print(sys.version)"
   ]
  },
  {
   "cell_type": "markdown",
   "id": "32a9cfc1-2b3b-4dad-8285-cb4f50c40454",
   "metadata": {},
   "source": [
    "## Import liberay and set connection with database with database cradensial."
   ]
  },
  {
   "cell_type": "code",
   "execution_count": 42,
   "id": "a515b6c0-8912-4032-82e5-2d7be497ece3",
   "metadata": {},
   "outputs": [],
   "source": [
    "import os\n",
    "from sqlalchemy import create_engine, text, inspect\n",
    "from dotenv import load_dotenv\n",
    "import pandas as pd\n",
    "\n",
    "app = Flask(__name__)\n",
    "load_dotenv()\n",
    "\n",
    "# Database connection details\n",
    "db_host = os.getenv('DB_HOST')\n",
    "db_user = os.getenv('DB_USER')\n",
    "db_pass = os.getenv('DB_PASSWORD')\n",
    "db_name = os.getenv('DB_NAME')\n",
    "\n",
    "DATABASE_URL = f\"mysql+pymysql://{db_user}:{db_pass}@{db_host}/{db_name}\"\n",
    "engine = create_engine(DATABASE_URL)"
   ]
  },
  {
   "cell_type": "markdown",
   "id": "f50f042a-3b35-4f58-a428-d205c93328ca",
   "metadata": {},
   "source": [
    "### Here connection by running a simple test query"
   ]
  },
  {
   "cell_type": "code",
   "execution_count": 15,
   "id": "6db7dae1-a288-4224-ae4d-1e7b3937e06d",
   "metadata": {},
   "outputs": [
    {
     "name": "stdout",
     "output_type": "stream",
     "text": [
      "Connected to database: itt_master_contents\n"
     ]
    }
   ],
   "source": [
    "\n",
    "try:\n",
    "    with engine.connect() as connection:\n",
    "        result = connection.execute(text(\"SELECT DATABASE()\"))\n",
    "        db_name = result.fetchone()[0]\n",
    "        print(f\"Connected to database: {db_name}\")\n",
    "except Exception as e:\n",
    "    print(f\"Error: {e}\")"
   ]
  },
  {
   "cell_type": "markdown",
   "id": "1536f2bd-7c91-41d4-95fe-a73707d3eb88",
   "metadata": {},
   "source": [
    "### Print All table list in the database for check connection."
   ]
  },
  {
   "cell_type": "code",
   "execution_count": 13,
   "id": "21b7f98e-d49e-4b77-9146-425688f286c0",
   "metadata": {},
   "outputs": [
    {
     "name": "stdout",
     "output_type": "stream",
     "text": [
      "Tables in the database 'itt_master_contents':\n",
      "vervotech_hotel_list\n",
      "vervotech_hotel_map_new\n",
      "vervotech_hotel_map_update\n",
      "vervotech_mapping\n",
      "vervotech_update_data_info\n"
     ]
    }
   ],
   "source": [
    "try:\n",
    "    inspector = inspect(engine)\n",
    "    tables = inspector.get_table_names()\n",
    "    if tables:\n",
    "        print(f\"Tables in the database '{db_name}':\")\n",
    "        for table in tables:\n",
    "            print(table)\n",
    "    else:\n",
    "        print(f\"No tables found in the database '{db_name}'\")\n",
    "except Exception as e:\n",
    "    print(f\"Error: {e}\")"
   ]
  },
  {
   "cell_type": "code",
   "execution_count": 16,
   "id": "9fa68b2d-06dd-4e72-96a0-0ca15642b740",
   "metadata": {},
   "outputs": [
    {
     "name": "stdout",
     "output_type": "stream",
     "text": [
      "Tables in the database 'itt_master_contents':\n",
      "vervotech_hotel_list\n",
      "vervotech_hotel_map_new\n",
      "vervotech_hotel_map_update\n",
      "vervotech_mapping\n",
      "vervotech_update_data_info\n"
     ]
    }
   ],
   "source": []
  },
  {
   "cell_type": "markdown",
   "id": "e8d62e68-dfaa-46ef-bd43-652596d22762",
   "metadata": {},
   "source": [
    "## Function: Get Group data in database."
   ]
  },
  {
   "cell_type": "code",
   "execution_count": 26,
   "id": "2cc21a05-ae08-4e79-8a29-27e1146ca319",
   "metadata": {},
   "outputs": [
    {
     "name": "stdout",
     "output_type": "stream",
     "text": [
      "      ProviderFamily  value_count\n",
      "0              Agoda            5\n",
      "1               DOTW          101\n",
      "2                EAN          113\n",
      "3           GoGlobal            5\n",
      "4         GRNConnect            3\n",
      "5          HotelBeds           70\n",
      "6   HyperGuestDirect            1\n",
      "7          MGHoliday            3\n",
      "8            Rakuten            4\n",
      "9             Restel            3\n",
      "10             Stuba            3\n",
      "11               TBO            6\n"
     ]
    }
   ],
   "source": [
    "def new_group_data(table, engine):\n",
    "    query = f\"\"\"\n",
    "    SELECT ProviderFamily, COUNT(*) AS value_count\n",
    "    FROM {table}\n",
    "    WHERE DATE(created_at) = (\n",
    "        SELECT DATE(MAX(created_at)) \n",
    "        FROM {table}\n",
    "    )\n",
    "    GROUP BY ProviderFamily;\n",
    "    \"\"\"\n",
    "    df = pd.read_sql(query, engine)\n",
    "    return df \n",
    "\n",
    "data = new_group_data(table=\"vervotech_hotel_map_new\", engine=engine)\n",
    "print(data)"
   ]
  },
  {
   "cell_type": "markdown",
   "id": "025305a1-7337-4ea9-81d9-f7f0136e7c40",
   "metadata": {},
   "source": [
    "## Function to Get All Data for a Specific ProviderFamily"
   ]
  },
  {
   "cell_type": "code",
   "execution_count": 36,
   "id": "63670370-6bb0-4ae5-8d64-dd7b648cfe2d",
   "metadata": {},
   "outputs": [
    {
     "name": "stdout",
     "output_type": "stream",
     "text": [
      "     Id             last_update VervotechId UpdateDateFormat ProviderHotelId  \\\n",
      "0  8254  2024/10/24 12:19:58 PM    39935372             None         1265152   \n",
      "1  8315  2024/10/24 13:00:03 PM    39935372             None         1265152   \n",
      "2  8316  2024/10/24 13:00:03 PM    39783271             None        22309930   \n",
      "3  8317  2024/10/24 13:00:03 PM    39683646             None          529347   \n",
      "4  8318  2024/10/24 13:00:03 PM    39368551             None          687153   \n",
      "\n",
      "  ProviderFamily ChannelIds ProviderLocationCode                  status  \\\n",
      "0          Agoda       None                 None           Skipping data   \n",
      "1          Agoda       None                 None           Skipping data   \n",
      "2          Agoda       None                 None  Update data successful   \n",
      "3          Agoda       None                 None  Update data successful   \n",
      "4          Agoda       None                 None  Update data successful   \n",
      "\n",
      "           created_at          ModifiedOn  \n",
      "0 2024-10-24 04:19:58 2024-10-24 04:21:30  \n",
      "1 2024-10-24 05:00:10 2024-10-24 07:00:11  \n",
      "2 2024-10-24 05:00:10 2024-10-24 07:00:13  \n",
      "3 2024-10-24 05:00:10 2024-10-24 07:00:14  \n",
      "4 2024-10-24 05:00:10 2024-10-24 07:00:16  \n"
     ]
    }
   ],
   "source": [
    "def get_provider_family_data(table, engine, provider_family):\n",
    "    query = f\"\"\"\n",
    "    SELECT *\n",
    "    FROM {table}\n",
    "    WHERE ProviderFamily = %s\n",
    "    AND DATE(created_at) = (\n",
    "        SELECT DATE(MAX(created_at)) \n",
    "        FROM {table}\n",
    "    );\n",
    "    \"\"\"\n",
    "    # Use pandas to execute the query and pass the provider_family parameter\n",
    "    df = pd.read_sql(query, engine, params=(provider_family,))\n",
    "    return df\n",
    "\n",
    "# Fetch all data for 'Agoda'\n",
    "agoda_data = get_provider_family_data(table=\"vervotech_hotel_map_new\", engine=engine, provider_family=\"Agoda\")\n",
    "\n",
    "# Print the result\n",
    "print(agoda_data)\n"
   ]
  },
  {
   "cell_type": "code",
   "execution_count": null,
   "id": "96a70565-5f71-4bf1-ab42-0872df87b942",
   "metadata": {
    "scrolled": true
   },
   "outputs": [],
   "source": []
  },
  {
   "cell_type": "code",
   "execution_count": null,
   "id": "a46f397d-4292-40bd-a49d-45da26546195",
   "metadata": {},
   "outputs": [],
   "source": []
  },
  {
   "cell_type": "markdown",
   "id": "ba84d705-156a-4261-abab-e2cc8714604e",
   "metadata": {},
   "source": [
    "### Get data choice specifiq column"
   ]
  },
  {
   "cell_type": "code",
   "execution_count": 50,
   "id": "b37fb27d-e8db-4870-a79c-3fbd9e4ade7c",
   "metadata": {},
   "outputs": [
    {
     "name": "stdout",
     "output_type": "stream",
     "text": [
      "     Id VervotechId ProviderHotelId ProviderFamily                  status\n",
      "0  8254    39935372         1265152          Agoda           Skipping data\n",
      "1  8315    39935372         1265152          Agoda           Skipping data\n",
      "2  8316    39783271        22309930          Agoda  Update data successful\n",
      "3  8317    39683646          529347          Agoda  Update data successful\n",
      "4  8318    39368551          687153          Agoda  Update data successful\n"
     ]
    }
   ],
   "source": [
    "import os\n",
    "import json\n",
    "\n",
    "df = get_provider_family_data(table=\"vervotech_hotel_map_new\", engine=engine, provider_family=\"Agoda\")\n",
    "\n",
    "# Select only the desired columns\n",
    "columns_to_include = ['Id', 'VervotechId', 'ProviderHotelId', 'ProviderFamily', 'status']\n",
    "selected_df = df[columns_to_include]\n",
    "print(selected_df)\n"
   ]
  },
  {
   "cell_type": "markdown",
   "id": "a3684346-2e05-486e-839d-8251645ab5cb",
   "metadata": {},
   "source": [
    "### Convert into dictonary choice specifiq column."
   ]
  },
  {
   "cell_type": "code",
   "execution_count": 49,
   "id": "2f2c08d5-86a7-4a45-a929-d6b3e7014488",
   "metadata": {},
   "outputs": [
    {
     "name": "stdout",
     "output_type": "stream",
     "text": [
      "[{'Id': 8318, 'VervotechId': '39368551', 'ProviderHotelId': '687153', 'ProviderFamily': 'Agoda', 'status': 'Update data successful'}]\n",
      "[{'Id': 8317, 'VervotechId': '39683646', 'ProviderHotelId': '529347', 'ProviderFamily': 'Agoda', 'status': 'Update data successful'}]\n",
      "[{'Id': 8316, 'VervotechId': '39783271', 'ProviderHotelId': '22309930', 'ProviderFamily': 'Agoda', 'status': 'Update data successful'}]\n",
      "[{'Id': 8254, 'VervotechId': '39935372', 'ProviderHotelId': '1265152', 'ProviderFamily': 'Agoda', 'status': 'Skipping data'}, {'Id': 8315, 'VervotechId': '39935372', 'ProviderHotelId': '1265152', 'ProviderFamily': 'Agoda', 'status': 'Skipping data'}]\n"
     ]
    }
   ],
   "source": [
    "grouped = selected_df.groupby('VervotechId')\n",
    "\n",
    "for vervotech_id, group in grouped:\n",
    "    # Convert the group DataFrame to a dictionary and serialize to JSON\n",
    "    data_dict = group.to_dict(orient='records')\n",
    "    print(data_dict)"
   ]
  },
  {
   "cell_type": "markdown",
   "id": "b2152173-2591-4dd7-8b46-ccf903af1693",
   "metadata": {},
   "source": [
    "## Functon to Save json format sata in local mesign with vervotech id."
   ]
  },
  {
   "cell_type": "code",
   "execution_count": 51,
   "id": "4f4d6c4d-3b8b-42b6-bb06-eb4a1ff23bf3",
   "metadata": {},
   "outputs": [
    {
     "name": "stdout",
     "output_type": "stream",
     "text": [
      "Saved 39368551.json in ./vervotech_json_files\n",
      "Saved 39683646.json in ./vervotech_json_files\n",
      "Saved 39783271.json in ./vervotech_json_files\n",
      "Saved 39935372.json in ./vervotech_json_files\n"
     ]
    }
   ],
   "source": [
    "import os\n",
    "import json\n",
    "\n",
    "def save_json_files_by_vervotechid(df, folder_path):\n",
    "    # Ensure the folder exists, if not, create it\n",
    "    if not os.path.exists(folder_path):\n",
    "        os.makedirs(folder_path)\n",
    "    \n",
    "    columns_to_include = ['Id', 'VervotechId', 'ProviderHotelId', 'ProviderFamily', 'status']\n",
    "    selected_df = df[columns_to_include]\n",
    "    \n",
    "    grouped = selected_df.groupby('VervotechId')\n",
    "    \n",
    "    for vervotech_id, group in grouped:\n",
    "        data_dict = group.to_dict(orient='records')\n",
    "\n",
    "        file_name = f\"{vervotech_id}.json\"\n",
    "        file_path = os.path.join(folder_path, file_name)\n",
    "        \n",
    "        with open(file_path, 'w') as json_file:\n",
    "            json.dump(data_dict, json_file, indent=4)\n",
    "        print(f\"Saved {file_name} in {folder_path}\")\n",
    "\n",
    "agoda_data = get_provider_family_data(table=\"vervotech_hotel_map_new\", engine=engine, provider_family=\"Agoda\")\n",
    "\n",
    "folder_path = './vervotech_json_files'\n",
    "\n",
    "save_json_files_by_vervotechid(agoda_data, folder_path)\n"
   ]
  },
  {
   "cell_type": "code",
   "execution_count": null,
   "id": "31aad819-759e-4ca6-85c4-9a5b57c0c65a",
   "metadata": {},
   "outputs": [],
   "source": []
  }
 ],
 "metadata": {
  "kernelspec": {
   "display_name": "Python 3 (ipykernel)",
   "language": "python",
   "name": "python3"
  },
  "language_info": {
   "codemirror_mode": {
    "name": "ipython",
    "version": 3
   },
   "file_extension": ".py",
   "mimetype": "text/x-python",
   "name": "python",
   "nbconvert_exporter": "python",
   "pygments_lexer": "ipython3",
   "version": "3.12.0"
  }
 },
 "nbformat": 4,
 "nbformat_minor": 5
}
