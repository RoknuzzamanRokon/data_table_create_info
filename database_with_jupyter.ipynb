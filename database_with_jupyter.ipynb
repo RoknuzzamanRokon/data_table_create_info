{
 "cells": [
  {
   "cell_type": "markdown",
   "id": "75e67e1f-1cde-44ed-bec8-355cb2208a06",
   "metadata": {},
   "source": [
    "#### Tests version"
   ]
  },
  {
   "cell_type": "code",
   "execution_count": 2,
   "id": "1ebe16a2-a046-4c1b-91fb-32b3b853a006",
   "metadata": {},
   "outputs": [
    {
     "name": "stdout",
     "output_type": "stream",
     "text": [
      "3.12.0 (tags/v3.12.0:0fb18b0, Oct  2 2023, 13:03:39) [MSC v.1935 64 bit (AMD64)]\n"
     ]
    }
   ],
   "source": [
    "import sys\n",
    "\n",
    "print(sys.version)"
   ]
  },
  {
   "cell_type": "markdown",
   "id": "32a9cfc1-2b3b-4dad-8285-cb4f50c40454",
   "metadata": {},
   "source": [
    "## Import liberay and set connection with database with database cradensial."
   ]
  },
  {
   "cell_type": "code",
   "execution_count": 33,
   "id": "a515b6c0-8912-4032-82e5-2d7be497ece3",
   "metadata": {},
   "outputs": [],
   "source": [
    "import os\n",
    "from sqlalchemy import create_engine, text, inspect\n",
    "from dotenv import load_dotenv\n",
    "import pandas as pd\n",
    "\n",
    "load_dotenv()\n",
    "\n",
    "# Database connection details\n",
    "db_host = os.getenv('DB_HOST')\n",
    "db_user = os.getenv('DB_USER')\n",
    "db_pass = os.getenv('DB_PASSWORD')\n",
    "db_name = os.getenv('DB_NAME')\n",
    "\n",
    "DATABASE_URL = f\"mysql+pymysql://{db_user}:{db_pass}@{db_host}/{db_name}\"\n",
    "engine = create_engine(DATABASE_URL)"
   ]
  },
  {
   "cell_type": "markdown",
   "id": "f50f042a-3b35-4f58-a428-d205c93328ca",
   "metadata": {},
   "source": [
    "### Database Connecting test query"
   ]
  },
  {
   "cell_type": "code",
   "execution_count": 7,
   "id": "6db7dae1-a288-4224-ae4d-1e7b3937e06d",
   "metadata": {},
   "outputs": [
    {
     "name": "stdout",
     "output_type": "stream",
     "text": [
      "Connected to database: itt_master_contents\n"
     ]
    }
   ],
   "source": [
    "\n",
    "try:\n",
    "    with engine.connect() as connection:\n",
    "        result = connection.execute(text(\"SELECT DATABASE()\"))\n",
    "        db_name = result.fetchone()[0]\n",
    "        print(f\"Connected to database: {db_name}\")\n",
    "except Exception as e:\n",
    "    print(f\"Error: {e}\")"
   ]
  },
  {
   "cell_type": "markdown",
   "id": "1536f2bd-7c91-41d4-95fe-a73707d3eb88",
   "metadata": {},
   "source": [
    "### Print All table list in the database for check connection."
   ]
  },
  {
   "cell_type": "code",
   "execution_count": 13,
   "id": "21b7f98e-d49e-4b77-9146-425688f286c0",
   "metadata": {},
   "outputs": [
    {
     "name": "stdout",
     "output_type": "stream",
     "text": [
      "Tables in the database 'itt_master_contents':\n",
      "vervotech_hotel_list\n",
      "vervotech_hotel_map_new\n",
      "vervotech_hotel_map_update\n",
      "vervotech_mapping\n",
      "vervotech_update_data_info\n"
     ]
    }
   ],
   "source": [
    "try:\n",
    "    inspector = inspect(engine)\n",
    "    tables = inspector.get_table_names()\n",
    "    if tables:\n",
    "        print(f\"Tables in the database '{db_name}':\")\n",
    "        for table in tables:\n",
    "            print(table)\n",
    "    else:\n",
    "        print(f\"No tables found in the database '{db_name}'\")\n",
    "except Exception as e:\n",
    "    print(f\"Error: {e}\")"
   ]
  },
  {
   "cell_type": "code",
   "execution_count": null,
   "id": "9fa68b2d-06dd-4e72-96a0-0ca15642b740",
   "metadata": {},
   "outputs": [],
   "source": []
  },
  {
   "cell_type": "markdown",
   "id": "e8d62e68-dfaa-46ef-bd43-652596d22762",
   "metadata": {},
   "source": [
    "## Function: Get Group data in database."
   ]
  },
  {
   "cell_type": "code",
   "execution_count": 34,
   "id": "2cc21a05-ae08-4e79-8a29-27e1146ca319",
   "metadata": {},
   "outputs": [
    {
     "name": "stdout",
     "output_type": "stream",
     "text": [
      "   ProviderFamily  value_count\n",
      "0           Agoda            2\n",
      "1            DOTW            2\n",
      "2             EAN            6\n",
      "3        GoGlobal            3\n",
      "4      GRNConnect            3\n",
      "5       HotelBeds           28\n",
      "6       MGHoliday            1\n",
      "7         Rakuten            3\n",
      "8          Restel            1\n",
      "9           Stuba           52\n",
      "10            TBO            3\n"
     ]
    }
   ],
   "source": [
    "def new_group_data(table, engine):\n",
    "    query = f\"\"\"\n",
    "    SELECT ProviderFamily, COUNT(*) AS value_count\n",
    "    FROM {table}\n",
    "    WHERE DATE(created_at) = (\n",
    "        SELECT DATE(MAX(created_at)) \n",
    "        FROM {table}\n",
    "    )\n",
    "    GROUP BY ProviderFamily;\n",
    "    \"\"\"\n",
    "    df = pd.read_sql(query, engine)\n",
    "    return df \n",
    "\n",
    "data = new_group_data(table=\"vervotech_hotel_map_new\", engine=engine)\n",
    "print(data)\n"
   ]
  },
  {
   "cell_type": "code",
   "execution_count": 20,
   "id": "958748bb-7ab8-475f-81ba-72f990c77e44",
   "metadata": {},
   "outputs": [
    {
     "name": "stdout",
     "output_type": "stream",
     "text": [
      "Agoda\n",
      "2\n",
      "11\n"
     ]
    }
   ],
   "source": [
    "print(data.ProviderFamily[0])\n",
    "print(data.value_count[0])\n",
    "print(len(data))"
   ]
  },
  {
   "cell_type": "code",
   "execution_count": 24,
   "id": "2a8eb088-8727-4f02-9faa-6057d5db39a4",
   "metadata": {},
   "outputs": [
    {
     "name": "stdout",
     "output_type": "stream",
     "text": [
      "Agoda\n",
      "DOTW\n",
      "EAN\n",
      "GoGlobal\n",
      "GRNConnect\n",
      "HotelBeds\n",
      "MGHoliday\n",
      "Rakuten\n",
      "Restel\n",
      "Stuba\n",
      "TBO\n"
     ]
    }
   ],
   "source": [
    "leanth_table = len(data)\n",
    "\n",
    "for i in range (leanth_table):\n",
    "    print(data.ProviderFamily[i])"
   ]
  },
  {
   "cell_type": "markdown",
   "id": "025305a1-7337-4ea9-81d9-f7f0136e7c40",
   "metadata": {},
   "source": [
    "## Function: Get All Data for a Specific Key word. Update data show there."
   ]
  },
  {
   "cell_type": "code",
   "execution_count": null,
   "id": "27557443-38c1-4b82-90ea-336d79f1113d",
   "metadata": {},
   "outputs": [],
   "source": []
  },
  {
   "cell_type": "code",
   "execution_count": 35,
   "id": "63670370-6bb0-4ae5-8d64-dd7b648cfe2d",
   "metadata": {},
   "outputs": [
    {
     "name": "stdout",
     "output_type": "stream",
     "text": [
      "     Id             last_update VervotechId UpdateDateFormat ProviderHotelId  \\\n",
      "0  8571  2024/10/25 13:00:04 PM    70500662             None        13829532   \n",
      "1  8572  2024/10/25 13:00:04 PM    39684057             None         2453037   \n",
      "\n",
      "  ProviderFamily ChannelIds ProviderLocationCode                  status  \\\n",
      "0          Agoda       None                 None  Update data successful   \n",
      "1          Agoda       None                 None  Update data successful   \n",
      "\n",
      "           created_at          ModifiedOn  \n",
      "0 2024-10-25 05:00:11 2024-10-25 07:00:12  \n",
      "1 2024-10-25 05:00:11 2024-10-25 07:00:14  \n"
     ]
    }
   ],
   "source": [
    "def get_provider_family_data(table, engine, provider_family):\n",
    "    query = f\"\"\"\n",
    "    SELECT *\n",
    "    FROM {table}\n",
    "    WHERE ProviderFamily = %s\n",
    "    AND DATE(created_at) = (\n",
    "        SELECT DATE(MAX(created_at)) \n",
    "        FROM {table}\n",
    "    );\n",
    "    \"\"\"\n",
    "    # Use pandas to execute the query and pass the provider_family parameter\n",
    "    df = pd.read_sql(query, engine, params=(provider_family,))\n",
    "    return df\n",
    "\n",
    "# Fetch all data for 'Agoda'\n",
    "agoda_data = get_provider_family_data(table=\"vervotech_hotel_map_new\", engine=engine, provider_family=\"Agoda\")\n",
    "\n",
    "# Print the result\n",
    "print(agoda_data)\n"
   ]
  },
  {
   "cell_type": "code",
   "execution_count": null,
   "id": "525c14c8-29ed-42fe-bb9b-7d5f4ad1d7da",
   "metadata": {},
   "outputs": [],
   "source": []
  },
  {
   "cell_type": "code",
   "execution_count": null,
   "id": "96a70565-5f71-4bf1-ab42-0872df87b942",
   "metadata": {
    "scrolled": true
   },
   "outputs": [],
   "source": []
  },
  {
   "cell_type": "code",
   "execution_count": null,
   "id": "a46f397d-4292-40bd-a49d-45da26546195",
   "metadata": {},
   "outputs": [],
   "source": []
  },
  {
   "cell_type": "markdown",
   "id": "ba84d705-156a-4261-abab-e2cc8714604e",
   "metadata": {},
   "source": [
    "### Get data choice specifiq column"
   ]
  },
  {
   "cell_type": "code",
   "execution_count": 28,
   "id": "b37fb27d-e8db-4870-a79c-3fbd9e4ade7c",
   "metadata": {},
   "outputs": [
    {
     "name": "stdout",
     "output_type": "stream",
     "text": [
      "     Id VervotechId ProviderHotelId ProviderFamily                  status\n",
      "0  8571    70500662        13829532          Agoda  Update data successful\n",
      "1  8572    39684057         2453037          Agoda  Update data successful\n"
     ]
    }
   ],
   "source": [
    "import os\n",
    "import json\n",
    "\n",
    "df = get_provider_family_data(table=\"vervotech_hotel_map_new\", engine=engine, provider_family=\"Agoda\")\n",
    "\n",
    "# Select only the desired columns\n",
    "columns_to_include = ['Id', 'VervotechId', 'ProviderHotelId', 'ProviderFamily', 'status']\n",
    "selected_df = df[columns_to_include]\n",
    "print(selected_df)\n"
   ]
  },
  {
   "cell_type": "markdown",
   "id": "8d24cfaf-660a-4e01-a7ca-babb14037bb8",
   "metadata": {},
   "source": [
    "### Get all data specifiq column and key words"
   ]
  },
  {
   "cell_type": "code",
   "execution_count": null,
   "id": "cd1475dd-c282-473f-86b6-ade3b6c606e2",
   "metadata": {
    "scrolled": true
   },
   "outputs": [],
   "source": [
    "import os\n",
    "import json\n",
    "\n",
    "data = new_group_data(table=\"vervotech_hotel_map_new\", engine=engine)\n",
    "\n",
    "data_lenth = len(data)\n",
    "for i in range(data_lenth):\n",
    "    all_family_data = data.ProviderFamily[i]\n",
    "    df = get_provider_family_data(table=\"vervotech_hotel_map_new\", engine=engine, provider_family=all_family_data)\n",
    "\n",
    "    # Select only the desired columns\n",
    "    columns_to_include = ['Id', 'VervotechId', 'ProviderHotelId', 'ProviderFamily', 'status']\n",
    "    selected_df = df[columns_to_include]\n",
    "    # print(selected_df)\n",
    "\n",
    "    grouped = selected_df.groupby('VervotechId')\n",
    "\n",
    "    for vervotech_id, group in grouped:\n",
    "        data_dict = group.to_dict(orient='records')\n",
    "        print(data_dict)"
   ]
  },
  {
   "cell_type": "markdown",
   "id": "a3684346-2e05-486e-839d-8251645ab5cb",
   "metadata": {},
   "source": [
    "### Convert into dictonary choice specifiq column."
   ]
  },
  {
   "cell_type": "code",
   "execution_count": 49,
   "id": "2f2c08d5-86a7-4a45-a929-d6b3e7014488",
   "metadata": {},
   "outputs": [
    {
     "name": "stdout",
     "output_type": "stream",
     "text": [
      "[{'Id': 8318, 'VervotechId': '39368551', 'ProviderHotelId': '687153', 'ProviderFamily': 'Agoda', 'status': 'Update data successful'}]\n",
      "[{'Id': 8317, 'VervotechId': '39683646', 'ProviderHotelId': '529347', 'ProviderFamily': 'Agoda', 'status': 'Update data successful'}]\n",
      "[{'Id': 8316, 'VervotechId': '39783271', 'ProviderHotelId': '22309930', 'ProviderFamily': 'Agoda', 'status': 'Update data successful'}]\n",
      "[{'Id': 8254, 'VervotechId': '39935372', 'ProviderHotelId': '1265152', 'ProviderFamily': 'Agoda', 'status': 'Skipping data'}, {'Id': 8315, 'VervotechId': '39935372', 'ProviderHotelId': '1265152', 'ProviderFamily': 'Agoda', 'status': 'Skipping data'}]\n"
     ]
    }
   ],
   "source": [
    "grouped = selected_df.groupby('VervotechId')\n",
    "\n",
    "for vervotech_id, group in grouped:\n",
    "    # Convert the group DataFrame to a dictionary and serialize to JSON\n",
    "    data_dict = group.to_dict(orient='records')\n",
    "    print(data_dict)"
   ]
  },
  {
   "cell_type": "markdown",
   "id": "b2152173-2591-4dd7-8b46-ccf903af1693",
   "metadata": {},
   "source": [
    "## Function: Save json format file in local measign."
   ]
  },
  {
   "cell_type": "code",
   "execution_count": null,
   "id": "abc136ad-6c4d-4a4d-9c29-689698996efa",
   "metadata": {},
   "outputs": [],
   "source": []
  },
  {
   "cell_type": "code",
   "execution_count": 51,
   "id": "4f4d6c4d-3b8b-42b6-bb06-eb4a1ff23bf3",
   "metadata": {},
   "outputs": [
    {
     "name": "stdout",
     "output_type": "stream",
     "text": [
      "Saved 39368551.json in ./vervotech_json_files\n",
      "Saved 39683646.json in ./vervotech_json_files\n",
      "Saved 39783271.json in ./vervotech_json_files\n",
      "Saved 39935372.json in ./vervotech_json_files\n"
     ]
    }
   ],
   "source": [
    "import os\n",
    "import json\n",
    "\n",
    "def save_json_files_by_vervotechid(df, folder_path):\n",
    "    # Ensure the folder exists, if not, create it\n",
    "    if not os.path.exists(folder_path):\n",
    "        os.makedirs(folder_path)\n",
    "    \n",
    "    columns_to_include = ['Id', 'VervotechId', 'ProviderHotelId', 'ProviderFamily', 'status']\n",
    "    selected_df = df[columns_to_include]\n",
    "    \n",
    "    grouped = selected_df.groupby('VervotechId')\n",
    "    \n",
    "    for vervotech_id, group in grouped:\n",
    "        data_dict = group.to_dict(orient='records')\n",
    "\n",
    "        file_name = f\"{vervotech_id}.json\"\n",
    "        file_path = os.path.join(folder_path, file_name)\n",
    "        \n",
    "        with open(file_path, 'w') as json_file:\n",
    "            json.dump(data_dict, json_file, indent=4)\n",
    "        print(f\"Saved {file_name} in {folder_path}\")\n",
    "\n",
    "agoda_data = get_provider_family_data(table=\"vervotech_hotel_map_new\", engine=engine, provider_family=\"Agoda\")\n",
    "\n",
    "folder_path = './vervotech_json_files'\n",
    "\n",
    "save_json_files_by_vervotechid(agoda_data, folder_path)\n"
   ]
  },
  {
   "cell_type": "code",
   "execution_count": 1,
   "id": "31aad819-759e-4ca6-85c4-9a5b57c0c65a",
   "metadata": {},
   "outputs": [
    {
     "name": "stdout",
     "output_type": "stream",
     "text": [
      "hello world\n"
     ]
    }
   ],
   "source": [
    "import os\n",
    "import json\n",
    "\n",
    "data = new_group_data(table=\"vervotech_hotel_map_new\", engine=engine)\n",
    "\n",
    "data_lenth = len(data)\n",
    "for i in range(data_lenth):\n",
    "    all_family_data = data.ProviderFamily[i]\n",
    "    df = get_provider_family_data(table=\"vervotech_hotel_map_new\", engine=engine, provider_family=all_family_data)\n",
    "\n",
    "    # Select only the desired columns\n",
    "    columns_to_include = ['Id', 'VervotechId', 'ProviderHotelId', 'ProviderFamily', 'status']\n",
    "    selected_df = df[columns_to_include]\n",
    "    # print(selected_df)\n",
    "\n",
    "    grouped = selected_df.groupby('VervotechId')\n",
    "\n",
    "    for vervotech_id, group in grouped:\n",
    "        data_dict = group.to_dict(orient='records')\n",
    "        "
   ]
  },
  {
   "cell_type": "markdown",
   "id": "bf139dd7-0460-462c-a610-9b495e9d9d9b",
   "metadata": {},
   "source": [
    "##  Grouping and Saving Data as JSON by Folder"
   ]
  },
  {
   "cell_type": "markdown",
   "id": "763d3b9b-7ab7-4619-aaca-c257827cd3be",
   "metadata": {},
   "source": [
    "#### Create Folder if Not Exists:\n",
    "##### Use os.makedirs() to ensure a folder is created if it doesn’t exist for each ProviderFamily.\n",
    "\n",
    "#### Filter Desired Columns:\n",
    "##### Use columns_to_include to select specific columns (VervotechId, ProviderHotelId, etc.) before grouping.\n",
    "\n",
    "#### Group Data by VervotechId:\n",
    "##### Group the DataFrame by VervotechId to create a JSON file for each unique ID.\n",
    "\n",
    "#### Save Each Group as JSON:\n",
    "##### Convert each group to a dictionary and save it as a JSON file in the folder named after ProviderFamily.\n",
    "\n",
    "#### Loop Through Each ProviderFamily:\n",
    "##### Loop over each unique ProviderFamily from data, create a folder, and save all corresponding JSON files there."
   ]
  },
  {
   "cell_type": "code",
   "execution_count": 38,
   "id": "936c34af-fcd5-4d05-b25b-6499cfb781ff",
   "metadata": {},
   "outputs": [
    {
     "name": "stdout",
     "output_type": "stream",
     "text": [
      "Saved 39684057.json in ./vervotech_json_files/Agoda\n",
      "Saved 70500662.json in ./vervotech_json_files/Agoda\n",
      "Saved 39593630.json in ./vervotech_json_files/DOTW\n",
      "Saved 70500633.json in ./vervotech_json_files/DOTW\n",
      "Saved 15165357.json in ./vervotech_json_files/EAN\n",
      "Saved 15232659.json in ./vervotech_json_files/EAN\n",
      "Saved 39780247.json in ./vervotech_json_files/EAN\n",
      "Saved 70485443.json in ./vervotech_json_files/EAN\n",
      "Saved 70499743.json in ./vervotech_json_files/EAN\n",
      "Saved 70499938.json in ./vervotech_json_files/EAN\n",
      "Saved 39684057.json in ./vervotech_json_files/GoGlobal\n",
      "Saved 39765145.json in ./vervotech_json_files/GoGlobal\n",
      "Saved 41413209.json in ./vervotech_json_files/GoGlobal\n",
      "Saved 38485951.json in ./vervotech_json_files/GRNConnect\n",
      "Saved 41626742.json in ./vervotech_json_files/GRNConnect\n",
      "Saved 70500668.json in ./vervotech_json_files/GRNConnect\n",
      "Saved 15329877.json in ./vervotech_json_files/HotelBeds\n",
      "Saved 31543088.json in ./vervotech_json_files/HotelBeds\n",
      "Saved 32433511.json in ./vervotech_json_files/HotelBeds\n",
      "Saved 38746369.json in ./vervotech_json_files/HotelBeds\n",
      "Saved 39500866.json in ./vervotech_json_files/HotelBeds\n",
      "Saved 39519801.json in ./vervotech_json_files/HotelBeds\n",
      "Saved 39622495.json in ./vervotech_json_files/HotelBeds\n",
      "Saved 39625612.json in ./vervotech_json_files/HotelBeds\n",
      "Saved 39641397.json in ./vervotech_json_files/HotelBeds\n",
      "Saved 39656317.json in ./vervotech_json_files/HotelBeds\n",
      "Saved 39658495.json in ./vervotech_json_files/HotelBeds\n",
      "Saved 39669759.json in ./vervotech_json_files/HotelBeds\n",
      "Saved 39679037.json in ./vervotech_json_files/HotelBeds\n",
      "Saved 39731511.json in ./vervotech_json_files/HotelBeds\n",
      "Saved 39754376.json in ./vervotech_json_files/HotelBeds\n",
      "Saved 39765145.json in ./vervotech_json_files/HotelBeds\n",
      "Saved 39871739.json in ./vervotech_json_files/HotelBeds\n",
      "Saved 70486707.json in ./vervotech_json_files/HotelBeds\n",
      "Saved 70499111.json in ./vervotech_json_files/HotelBeds\n",
      "Saved 70499781.json in ./vervotech_json_files/HotelBeds\n",
      "Saved 70500637.json in ./vervotech_json_files/HotelBeds\n",
      "Saved 70500640.json in ./vervotech_json_files/HotelBeds\n",
      "Saved 70500644.json in ./vervotech_json_files/HotelBeds\n",
      "Saved 70500652.json in ./vervotech_json_files/HotelBeds\n",
      "Saved 70500655.json in ./vervotech_json_files/HotelBeds\n",
      "Saved 70500657.json in ./vervotech_json_files/HotelBeds\n",
      "Saved 70500672.json in ./vervotech_json_files/HotelBeds\n",
      "Saved 70500673.json in ./vervotech_json_files/HotelBeds\n",
      "Saved 32553363.json in ./vervotech_json_files/MGHoliday\n",
      "Saved 37678272.json in ./vervotech_json_files/Rakuten\n",
      "Saved 39048744.json in ./vervotech_json_files/Rakuten\n",
      "Saved 39765145.json in ./vervotech_json_files/Rakuten\n",
      "Saved 39765145.json in ./vervotech_json_files/Restel\n",
      "Saved 15231359.json in ./vervotech_json_files/Stuba\n",
      "Saved 15368016.json in ./vervotech_json_files/Stuba\n",
      "Saved 16445584.json in ./vervotech_json_files/Stuba\n",
      "Saved 32327287.json in ./vervotech_json_files/Stuba\n",
      "Saved 32509536.json in ./vervotech_json_files/Stuba\n",
      "Saved 37369486.json in ./vervotech_json_files/Stuba\n",
      "Saved 38043209.json in ./vervotech_json_files/Stuba\n",
      "Saved 38391013.json in ./vervotech_json_files/Stuba\n",
      "Saved 38739888.json in ./vervotech_json_files/Stuba\n",
      "Saved 38803989.json in ./vervotech_json_files/Stuba\n",
      "Saved 38851126.json in ./vervotech_json_files/Stuba\n",
      "Saved 38903183.json in ./vervotech_json_files/Stuba\n",
      "Saved 38913898.json in ./vervotech_json_files/Stuba\n",
      "Saved 38969950.json in ./vervotech_json_files/Stuba\n",
      "Saved 39044565.json in ./vervotech_json_files/Stuba\n",
      "Saved 39147114.json in ./vervotech_json_files/Stuba\n",
      "Saved 39327387.json in ./vervotech_json_files/Stuba\n",
      "Saved 39501365.json in ./vervotech_json_files/Stuba\n",
      "Saved 39529261.json in ./vervotech_json_files/Stuba\n",
      "Saved 39530318.json in ./vervotech_json_files/Stuba\n",
      "Saved 39559590.json in ./vervotech_json_files/Stuba\n",
      "Saved 39626629.json in ./vervotech_json_files/Stuba\n",
      "Saved 39630558.json in ./vervotech_json_files/Stuba\n",
      "Saved 39648363.json in ./vervotech_json_files/Stuba\n",
      "Saved 39648865.json in ./vervotech_json_files/Stuba\n",
      "Saved 39649007.json in ./vervotech_json_files/Stuba\n",
      "Saved 39651230.json in ./vervotech_json_files/Stuba\n",
      "Saved 39657551.json in ./vervotech_json_files/Stuba\n",
      "Saved 39657590.json in ./vervotech_json_files/Stuba\n",
      "Saved 39658705.json in ./vervotech_json_files/Stuba\n",
      "Saved 39659499.json in ./vervotech_json_files/Stuba\n",
      "Saved 39660336.json in ./vervotech_json_files/Stuba\n",
      "Saved 39669660.json in ./vervotech_json_files/Stuba\n",
      "Saved 39671015.json in ./vervotech_json_files/Stuba\n",
      "Saved 39672357.json in ./vervotech_json_files/Stuba\n",
      "Saved 39674512.json in ./vervotech_json_files/Stuba\n",
      "Saved 39681504.json in ./vervotech_json_files/Stuba\n",
      "Saved 39690836.json in ./vervotech_json_files/Stuba\n",
      "Saved 39691854.json in ./vervotech_json_files/Stuba\n",
      "Saved 39693471.json in ./vervotech_json_files/Stuba\n",
      "Saved 39705000.json in ./vervotech_json_files/Stuba\n",
      "Saved 39714214.json in ./vervotech_json_files/Stuba\n",
      "Saved 39764725.json in ./vervotech_json_files/Stuba\n",
      "Saved 39765553.json in ./vervotech_json_files/Stuba\n",
      "Saved 39771584.json in ./vervotech_json_files/Stuba\n",
      "Saved 39805647.json in ./vervotech_json_files/Stuba\n",
      "Saved 39831883.json in ./vervotech_json_files/Stuba\n",
      "Saved 40130686.json in ./vervotech_json_files/Stuba\n",
      "Saved 53541992.json in ./vervotech_json_files/Stuba\n",
      "Saved 70486642.json in ./vervotech_json_files/Stuba\n",
      "Saved 70500624.json in ./vervotech_json_files/Stuba\n",
      "Saved 70500662.json in ./vervotech_json_files/Stuba\n",
      "Saved 15494810.json in ./vervotech_json_files/TBO\n",
      "Saved 70500641.json in ./vervotech_json_files/TBO\n",
      "Saved 70500649.json in ./vervotech_json_files/TBO\n"
     ]
    }
   ],
   "source": [
    "import os\n",
    "import json\n",
    "\n",
    "def save_json_files_by_vervotechid(df, folder_path):\n",
    "    # Ensure the folder exists, if not, create it\n",
    "    if not os.path.exists(folder_path):\n",
    "        os.makedirs(folder_path)\n",
    "    \n",
    "    columns_to_include = ['VervotechId', 'ProviderHotelId', 'ProviderFamily', 'status']\n",
    "    selected_df = df[columns_to_include]\n",
    "    \n",
    "    grouped = selected_df.groupby('VervotechId')\n",
    "    \n",
    "    for vervotech_id, group in grouped:\n",
    "        data_dict = group.to_dict(orient='records')\n",
    "\n",
    "        file_name = f\"{vervotech_id}.json\"\n",
    "        file_path = os.path.join(folder_path, file_name)\n",
    "        \n",
    "        with open(file_path, 'w') as json_file:\n",
    "            json.dump(data_dict, json_file, indent=4)\n",
    "        print(f\"Saved {file_name} in {folder_path}\")\n",
    "\n",
    "# Main code to create a folder for each ProviderFamily and save JSON files\n",
    "data = new_group_data(table=\"vervotech_hotel_map_new\", engine=engine)\n",
    "\n",
    "data_length = len(data)\n",
    "\n",
    "for i in range(data_length):\n",
    "    # Get the current ProviderFamily\n",
    "    provider_family = data.ProviderFamily[i]\n",
    "    \n",
    "    # Fetch data specific to the ProviderFamily\n",
    "    df = get_provider_family_data(table=\"vervotech_hotel_map_new\", engine=engine, provider_family=provider_family)\n",
    "    \n",
    "    # Create a specific folder path for each ProviderFamily\n",
    "    folder_path = f'./vervotech_json_files/{provider_family}'\n",
    "    \n",
    "    # Save the JSON files in the specific folder\n",
    "    save_json_files_by_vervotechid(df, folder_path)\n"
   ]
  },
  {
   "cell_type": "code",
   "execution_count": null,
   "id": "2db357e1-7664-492c-8af6-315e86997e3b",
   "metadata": {},
   "outputs": [],
   "source": []
  }
 ],
 "metadata": {
  "kernelspec": {
   "display_name": "Python 3 (ipykernel)",
   "language": "python",
   "name": "python3"
  },
  "language_info": {
   "codemirror_mode": {
    "name": "ipython",
    "version": 3
   },
   "file_extension": ".py",
   "mimetype": "text/x-python",
   "name": "python",
   "nbconvert_exporter": "python",
   "pygments_lexer": "ipython3",
   "version": "3.12.0"
  }
 },
 "nbformat": 4,
 "nbformat_minor": 5
}
